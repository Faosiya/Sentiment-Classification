{
 "cells": [
  {
   "cell_type": "markdown",
   "metadata": {
    "id": "f2S8I2ny-ovS"
   },
   "source": [
    "# ANLP Assignment: Sentiment Classification\n",
    "\n",
    "In this assignment, you will be investigating NLP methods for distinguishing positive and negative reviews written about movies.\n",
    "\n",
    "For assessment, you are expected to complete and submit this notebook file.  When answers require code, you may import and use library functions (unless explicitly told otherwise).  All of your own code should be included in the notebook rather than imported from elsewhere.  Written answers should also be included in the notebook.  You should insert as many extra cells as you want and change the type between code and markdown as appropriate.\n",
    "\n",
    "In order to avoid misconduct, you should not talk about the assignment questions with your peers.  If you are not sure what a question is asking you to do or have any other questions, please ask me or one of the Teaching Assistants.\n",
    "\n",
    "Marking guidelines are provided as a separate document.\n",
    "\n",
    "The first few cells contain code to set-up the assignment and bring in some data.   In order to provide unique datasets for analysis by different students, you must enter your candidate number in the following cell.  Otherwise do not change the code in these cells."
   ]
  },
  {
   "cell_type": "code",
   "execution_count": 208,
   "metadata": {
    "id": "1gXQAZas-l9c"
   },
   "outputs": [],
   "source": [
    "candidateno= 277916 #this MUST be updated to your candidate number so that you get a unique data sample\n"
   ]
  },
  {
   "cell_type": "code",
   "execution_count": 209,
   "metadata": {
    "colab": {
     "base_uri": "https://localhost:8080/"
    },
    "id": "nk8JTP88A8vs",
    "outputId": "153781c0-1275-4288-8f98-9e4c00155963"
   },
   "outputs": [
    {
     "name": "stderr",
     "output_type": "stream",
     "text": [
      "[nltk_data] Downloading package punkt to /root/nltk_data...\n",
      "[nltk_data]   Package punkt is already up-to-date!\n",
      "[nltk_data] Downloading package stopwords to /root/nltk_data...\n",
      "[nltk_data]   Package stopwords is already up-to-date!\n",
      "[nltk_data] Downloading package movie_reviews to /root/nltk_data...\n",
      "[nltk_data]   Package movie_reviews is already up-to-date!\n"
     ]
    }
   ],
   "source": [
    "#do not change the code in this cell\n",
    "#preliminary imports\n",
    "\n",
    "#set up nltk\n",
    "import nltk\n",
    "nltk.download('punkt')\n",
    "nltk.download('stopwords')\n",
    "nltk.download('movie_reviews')\n",
    "from nltk.corpus import stopwords\n",
    "from nltk.tokenize import word_tokenize\n",
    "from nltk.corpus import movie_reviews\n",
    "\n",
    "#for setting up training and testing data\n",
    "import random\n",
    "\n",
    "#useful other tools\n",
    "import re\n",
    "import pandas as pd\n",
    "import matplotlib.pyplot as plt\n",
    "%matplotlib inline\n",
    "from itertools import zip_longest\n",
    "from nltk.probability import FreqDist\n",
    "from nltk.classify.api import ClassifierI\n"
   ]
  },
  {
   "cell_type": "code",
   "execution_count": 210,
   "metadata": {
    "id": "BHBkzAccCVaZ"
   },
   "outputs": [],
   "source": [
    "#do not change the code in this cell\n",
    "def split_data(data, ratio=0.7): # when the second argument is not given, it defaults to 0.7\n",
    "    \"\"\"\n",
    "    Given corpus generator and ratio:\n",
    "     - partitions the corpus into training data and test data, where the proportion in train is ratio,\n",
    "\n",
    "    :param data: A corpus generator.\n",
    "    :param ratio: The proportion of training documents (default 0.7)\n",
    "    :return: a pair (tuple) of lists where the first element of the\n",
    "            pair is a list of the training data and the second is a list of the test data.\n",
    "    \"\"\"\n",
    "\n",
    "    data = list(data)\n",
    "    n = len(data)\n",
    "    train_indices = random.sample(range(n), int(n * ratio))\n",
    "    test_indices = list(set(range(n)) - set(train_indices))\n",
    "    train = [data[i] for i in train_indices]\n",
    "    test = [data[i] for i in test_indices]\n",
    "    return (train, test)\n",
    "\n",
    "\n",
    "def get_train_test_data():\n",
    "\n",
    "    #get ids of positive and negative movie reviews\n",
    "    pos_review_ids=movie_reviews.fileids('pos')\n",
    "    neg_review_ids=movie_reviews.fileids('neg')\n",
    "\n",
    "    #split positive and negative data into training and testing sets\n",
    "    pos_train_ids, pos_test_ids = split_data(pos_review_ids)\n",
    "    neg_train_ids, neg_test_ids = split_data(neg_review_ids)\n",
    "    #add labels to the data and concatenate\n",
    "    training = [(movie_reviews.words(f),'pos') for f in pos_train_ids]+[(movie_reviews.words(f),'neg') for f in neg_train_ids]\n",
    "    testing = [(movie_reviews.words(f),'pos') for f in pos_test_ids]+[(movie_reviews.words(f),'neg') for f in neg_test_ids]\n",
    "\n",
    "    return training, testing"
   ]
  },
  {
   "cell_type": "markdown",
   "metadata": {
    "id": "1N3LWwBYICPP"
   },
   "source": [
    "When you have run the cell below, your unique training and testing samples will be stored in `training_data` and `testing_data`"
   ]
  },
  {
   "cell_type": "code",
   "execution_count": 211,
   "metadata": {
    "colab": {
     "base_uri": "https://localhost:8080/"
    },
    "id": "HJLegkdPFUJA",
    "outputId": "4332123e-f54e-4d03-90d9-a5ef4b91e391"
   },
   "outputs": [
    {
     "name": "stdout",
     "output_type": "stream",
     "text": [
      "The amount of training data is 1400\n",
      "The amount of testing data is 600\n",
      "The representation of a single data item is below\n",
      "(['gordon', 'fleming', '(', 'peter', 'mullan', ')', ...], 'pos')\n"
     ]
    }
   ],
   "source": [
    "#do not change the code in this cell\n",
    "random.seed(candidateno)\n",
    "training_data,testing_data=get_train_test_data()\n",
    "print(\"The amount of training data is {}\".format(len(training_data)))\n",
    "print(\"The amount of testing data is {}\".format(len(testing_data)))\n",
    "print(\"The representation of a single data item is below\")\n",
    "print(training_data[0])"
   ]
  },
  {
   "cell_type": "markdown",
   "metadata": {
    "id": "RbTq6eGv2XT2"
   },
   "source": [
    "1)  \n",
    "a) **Generate** a list of 10 content words which are representative of the positive reviews in your training data.\n",
    "\n",
    "b) **Generate** a list of 10 content words which are representative of the negative reviews in your training data.\n",
    "\n",
    "c) **Explain** what you have done and why\n",
    "\n",
    "[20\\%]"
   ]
  },
  {
   "cell_type": "code",
   "execution_count": 212,
   "metadata": {
    "id": "JXHrtNCg2XT4"
   },
   "outputs": [],
   "source": [
    "#STEP 1: Normalized the data set\n",
    "stop = stopwords.words('english')\n",
    "\n",
    "def normalise(wordlist):\n",
    "  filtered = [word for word in wordlist if word not in stop and word.isalpha()]\n",
    "\n",
    "  return filtered\n",
    "\n"
   ]
  },
  {
   "cell_type": "code",
   "execution_count": 213,
   "metadata": {
    "colab": {
     "base_uri": "https://localhost:8080/"
    },
    "id": "eBNIgoLWqpMZ",
    "outputId": "6bebb84a-8bb5-4b6c-c2f0-711687ca6945"
   },
   "outputs": [
    {
     "data": {
      "text/plain": [
       "FreqDist({'film': 3524, 'one': 2058, 'movie': 1740, 'like': 1249, 'time': 857, 'good': 854, 'story': 849, 'also': 830, 'well': 808, 'even': 785, ...})"
      ]
     },
     "execution_count": 213,
     "metadata": {},
     "output_type": "execute_result"
    }
   ],
   "source": [
    "# Normalized and frequency of each word\n",
    "training_data_norm=[(FreqDist(normalise(wordlist)),label) for (wordlist,label) in training_data]\n",
    "testing_data_norm=[(FreqDist(normalise(wordlist)),label) for (wordlist,label) in testing_data]\n",
    "\n",
    "#Define empty variable for pos and negative review\n",
    "pos_freq_dist=FreqDist()\n",
    "neg_freq_dist=FreqDist()\n",
    "\n",
    "# Apply list comprehension to\n",
    "[pos_freq_dist.update(review_dist) if label == 'pos' else neg_freq_dist.update(review_dist) for review_dist, label in training_data_norm]\n",
    "\n",
    "pos_freq_dist #testing my function"
   ]
  },
  {
   "cell_type": "code",
   "execution_count": 214,
   "metadata": {
    "colab": {
     "base_uri": "https://localhost:8080/"
    },
    "id": "ZBPDt9alsdnZ",
    "outputId": "bff4a9e0-bfc8-4b27-9fa3-11853ff15cac"
   },
   "outputs": [
    {
     "data": {
      "text/plain": [
       "FreqDist({'film': 3086, 'movie': 2249, 'one': 1938, 'like': 1317, 'even': 968, 'good': 828, 'time': 804, 'would': 763, 'get': 759, 'bad': 732, ...})"
      ]
     },
     "execution_count": 214,
     "metadata": {},
     "output_type": "execute_result"
    }
   ],
   "source": [
    "neg_freq_dist #testing my function"
   ]
  },
  {
   "cell_type": "code",
   "execution_count": 215,
   "metadata": {
    "colab": {
     "base_uri": "https://localhost:8080/"
    },
    "id": "RgePc9hV2XT_",
    "outputId": "a0b41abf-16b8-44b4-c2c6-db86466839b6"
   },
   "outputs": [
    {
     "name": "stdout",
     "output_type": "stream",
     "text": [
      "['film', 'life', 'also', 'well', 'great', 'best', 'many', 'story', 'world', 'films']\n",
      "['movie', 'bad', 'plot', 'even', 'worst', 'get', 'nothing', 'script', 'could', 'action']\n"
     ]
    }
   ],
   "source": [
    "#STEP 3\n",
    "def most_frequent_words(posfreq,negfreq,topk):\n",
    "    difference=posfreq-negfreq\n",
    "    sorteddiff=difference.most_common()\n",
    "\n",
    "    justwords=[word for (word,freq) in sorteddiff[:topk]]\n",
    "    return justwords\n",
    "\n",
    "top_pos=most_frequent_words(pos_freq_dist,neg_freq_dist,10)\n",
    "print(top_pos)\n",
    "\n",
    "top_neg=most_frequent_words(neg_freq_dist,pos_freq_dist,10)\n",
    "print(top_neg)"
   ]
  },
  {
   "cell_type": "markdown",
   "metadata": {
    "id": "JauTzY5N2XUB"
   },
   "source": [
    "**Step 1:** I normalized the data, both testing and training list of data, by writing a function \"def normalize (wordlist)\" to filter out stopwords and non-alphabetic characters.\n",
    "\n",
    "**Step 2**:  I applied the ***normalized function*** created in step one on my training and testing data and ***the freq distribution function*** using list comprehensive. This is to clean my data and create frequency distributions for each word in the normalized training data based on the *'positive' or 'negative' label* defined at the beginning of the notebook.\n",
    "\n",
    "Then, I aggregate the word frequencies separately for positive and negative reviews and store their frequency distribution in a variable called ***pos_feq_dist and neg_freq_dist*** respectively using list comprehensive to make my syntax short and neat.\n",
    "\n",
    "**Step 3**: I define a function called ***most_frequent_words*** that takes two dictionaries: *positive review frequency (pos_freq_dist) and negative review frequency positive(neg_freq_dist)*. It'll then computes the difference between positive and negative frequencies for each word, sorts the differences, and returns the top word which gives me most common 10 words in my training data set.\n"
   ]
  },
  {
   "cell_type": "markdown",
   "metadata": {
    "id": "TApOQE6vND20"
   },
   "source": [
    "2)\n",
    "a) **Use** the lists generated in Q1 to build a **word list classifier** which will classify reviews as being positive or negative.\n",
    "\n",
    "b) **Explain** what you have done.\n",
    "\n",
    "[12.5\\%]\n"
   ]
  },
  {
   "cell_type": "code",
   "execution_count": 216,
   "metadata": {
    "colab": {
     "base_uri": "https://localhost:8080/"
    },
    "id": "P7irX8ogzof0",
    "outputId": "fe4f1582-f060-4bac-c37e-1798388396eb"
   },
   "outputs": [
    {
     "data": {
      "text/plain": [
       "['pos',\n",
       " 'pos',\n",
       " 'pos',\n",
       " 'pos',\n",
       " 'pos',\n",
       " 'pos',\n",
       " 'pos',\n",
       " 'pos',\n",
       " 'pos',\n",
       " 'pos',\n",
       " 'pos',\n",
       " 'pos',\n",
       " 'pos',\n",
       " 'pos',\n",
       " 'pos',\n",
       " 'pos',\n",
       " 'pos',\n",
       " 'pos',\n",
       " 'pos',\n",
       " 'pos',\n",
       " 'pos',\n",
       " 'pos',\n",
       " 'pos',\n",
       " 'pos',\n",
       " 'pos',\n",
       " 'pos',\n",
       " 'pos',\n",
       " 'pos',\n",
       " 'neg',\n",
       " 'neg',\n",
       " 'pos',\n",
       " 'pos',\n",
       " 'neg',\n",
       " 'pos',\n",
       " 'pos',\n",
       " 'pos',\n",
       " 'pos',\n",
       " 'pos',\n",
       " 'neg',\n",
       " 'pos',\n",
       " 'pos',\n",
       " 'pos',\n",
       " 'pos',\n",
       " 'pos',\n",
       " 'pos',\n",
       " 'pos',\n",
       " 'pos',\n",
       " 'pos',\n",
       " 'pos',\n",
       " 'pos',\n",
       " 'pos',\n",
       " 'pos',\n",
       " 'neg',\n",
       " 'pos',\n",
       " 'pos',\n",
       " 'pos',\n",
       " 'pos',\n",
       " 'pos',\n",
       " 'neg',\n",
       " 'pos',\n",
       " 'neg',\n",
       " 'neg',\n",
       " 'pos',\n",
       " 'neg',\n",
       " 'pos',\n",
       " 'pos',\n",
       " 'pos',\n",
       " 'pos',\n",
       " 'pos',\n",
       " 'pos',\n",
       " 'pos',\n",
       " 'pos',\n",
       " 'pos',\n",
       " 'pos',\n",
       " 'pos',\n",
       " 'pos',\n",
       " 'pos',\n",
       " 'neg',\n",
       " 'pos',\n",
       " 'neg',\n",
       " 'neg',\n",
       " 'pos',\n",
       " 'neg',\n",
       " 'neg',\n",
       " 'pos',\n",
       " 'pos',\n",
       " 'pos',\n",
       " 'pos',\n",
       " 'pos',\n",
       " 'neg',\n",
       " 'pos',\n",
       " 'pos',\n",
       " 'pos',\n",
       " 'pos',\n",
       " 'neg',\n",
       " 'pos',\n",
       " 'neg',\n",
       " 'pos',\n",
       " 'pos',\n",
       " 'pos',\n",
       " 'pos',\n",
       " 'pos',\n",
       " 'pos',\n",
       " 'pos',\n",
       " 'pos',\n",
       " 'pos',\n",
       " 'pos',\n",
       " 'pos',\n",
       " 'neg',\n",
       " 'pos',\n",
       " 'pos',\n",
       " 'pos',\n",
       " 'pos',\n",
       " 'neg',\n",
       " 'pos',\n",
       " 'pos',\n",
       " 'pos',\n",
       " 'pos',\n",
       " 'pos',\n",
       " 'neg',\n",
       " 'pos',\n",
       " 'pos',\n",
       " 'neg',\n",
       " 'pos',\n",
       " 'neg',\n",
       " 'neg',\n",
       " 'neg',\n",
       " 'neg',\n",
       " 'pos',\n",
       " 'pos',\n",
       " 'pos',\n",
       " 'pos',\n",
       " 'pos',\n",
       " 'pos',\n",
       " 'pos',\n",
       " 'pos',\n",
       " 'pos',\n",
       " 'pos',\n",
       " 'pos',\n",
       " 'pos',\n",
       " 'pos',\n",
       " 'pos',\n",
       " 'neg',\n",
       " 'neg',\n",
       " 'pos',\n",
       " 'pos',\n",
       " 'pos',\n",
       " 'neg',\n",
       " 'pos',\n",
       " 'pos',\n",
       " 'pos',\n",
       " 'pos',\n",
       " 'pos',\n",
       " 'pos',\n",
       " 'pos',\n",
       " 'pos',\n",
       " 'pos',\n",
       " 'pos',\n",
       " 'pos',\n",
       " 'pos',\n",
       " 'pos',\n",
       " 'pos',\n",
       " 'pos',\n",
       " 'pos',\n",
       " 'neg',\n",
       " 'pos',\n",
       " 'neg',\n",
       " 'pos',\n",
       " 'pos',\n",
       " 'pos',\n",
       " 'neg',\n",
       " 'neg',\n",
       " 'pos',\n",
       " 'neg',\n",
       " 'pos',\n",
       " 'pos',\n",
       " 'pos',\n",
       " 'pos',\n",
       " 'pos',\n",
       " 'pos',\n",
       " 'pos',\n",
       " 'pos',\n",
       " 'pos',\n",
       " 'neg',\n",
       " 'neg',\n",
       " 'pos',\n",
       " 'pos',\n",
       " 'pos',\n",
       " 'pos',\n",
       " 'neg',\n",
       " 'pos',\n",
       " 'pos',\n",
       " 'pos',\n",
       " 'pos',\n",
       " 'pos',\n",
       " 'pos',\n",
       " 'pos',\n",
       " 'pos',\n",
       " 'pos',\n",
       " 'pos',\n",
       " 'neg',\n",
       " 'pos',\n",
       " 'pos',\n",
       " 'neg',\n",
       " 'pos',\n",
       " 'pos',\n",
       " 'neg',\n",
       " 'pos',\n",
       " 'pos',\n",
       " 'pos',\n",
       " 'pos',\n",
       " 'pos',\n",
       " 'pos',\n",
       " 'pos',\n",
       " 'pos',\n",
       " 'pos',\n",
       " 'pos',\n",
       " 'pos',\n",
       " 'neg',\n",
       " 'pos',\n",
       " 'neg',\n",
       " 'neg',\n",
       " 'pos',\n",
       " 'pos',\n",
       " 'pos',\n",
       " 'neg',\n",
       " 'neg',\n",
       " 'pos',\n",
       " 'neg',\n",
       " 'pos',\n",
       " 'pos',\n",
       " 'pos',\n",
       " 'pos',\n",
       " 'pos',\n",
       " 'pos',\n",
       " 'pos',\n",
       " 'neg',\n",
       " 'pos',\n",
       " 'pos',\n",
       " 'pos',\n",
       " 'pos',\n",
       " 'pos',\n",
       " 'pos',\n",
       " 'pos',\n",
       " 'neg',\n",
       " 'pos',\n",
       " 'pos',\n",
       " 'neg',\n",
       " 'pos',\n",
       " 'pos',\n",
       " 'pos',\n",
       " 'pos',\n",
       " 'pos',\n",
       " 'pos',\n",
       " 'pos',\n",
       " 'pos',\n",
       " 'pos',\n",
       " 'pos',\n",
       " 'pos',\n",
       " 'pos',\n",
       " 'pos',\n",
       " 'pos',\n",
       " 'pos',\n",
       " 'pos',\n",
       " 'neg',\n",
       " 'pos',\n",
       " 'pos',\n",
       " 'neg',\n",
       " 'pos',\n",
       " 'pos',\n",
       " 'pos',\n",
       " 'neg',\n",
       " 'pos',\n",
       " 'pos',\n",
       " 'pos',\n",
       " 'pos',\n",
       " 'pos',\n",
       " 'pos',\n",
       " 'neg',\n",
       " 'pos',\n",
       " 'pos',\n",
       " 'pos',\n",
       " 'neg',\n",
       " 'pos',\n",
       " 'pos',\n",
       " 'neg',\n",
       " 'pos',\n",
       " 'pos',\n",
       " 'neg',\n",
       " 'pos',\n",
       " 'pos',\n",
       " 'pos',\n",
       " 'pos',\n",
       " 'pos',\n",
       " 'pos',\n",
       " 'pos',\n",
       " 'pos',\n",
       " 'neg',\n",
       " 'pos',\n",
       " 'pos',\n",
       " 'pos',\n",
       " 'pos',\n",
       " 'pos',\n",
       " 'pos',\n",
       " 'neg',\n",
       " 'neg',\n",
       " 'neg',\n",
       " 'neg',\n",
       " 'pos',\n",
       " 'pos',\n",
       " 'pos',\n",
       " 'pos',\n",
       " 'pos',\n",
       " 'pos',\n",
       " 'neg',\n",
       " 'pos',\n",
       " 'neg',\n",
       " 'pos',\n",
       " 'pos',\n",
       " 'neg',\n",
       " 'neg',\n",
       " 'neg',\n",
       " 'pos',\n",
       " 'neg',\n",
       " 'neg',\n",
       " 'neg',\n",
       " 'pos',\n",
       " 'pos',\n",
       " 'neg',\n",
       " 'neg',\n",
       " 'pos',\n",
       " 'pos',\n",
       " 'pos',\n",
       " 'pos',\n",
       " 'pos',\n",
       " 'neg',\n",
       " 'neg',\n",
       " 'pos',\n",
       " 'pos',\n",
       " 'pos',\n",
       " 'pos',\n",
       " 'pos',\n",
       " 'pos',\n",
       " 'pos',\n",
       " 'neg',\n",
       " 'neg',\n",
       " 'neg',\n",
       " 'pos',\n",
       " 'pos',\n",
       " 'neg',\n",
       " 'neg',\n",
       " 'pos',\n",
       " 'pos',\n",
       " 'pos',\n",
       " 'pos',\n",
       " 'neg',\n",
       " 'neg',\n",
       " 'pos',\n",
       " 'pos',\n",
       " 'pos',\n",
       " 'pos',\n",
       " 'neg',\n",
       " 'neg',\n",
       " 'pos',\n",
       " 'pos',\n",
       " 'neg',\n",
       " 'pos',\n",
       " 'pos',\n",
       " 'pos',\n",
       " 'pos',\n",
       " 'pos',\n",
       " 'neg',\n",
       " 'neg',\n",
       " 'neg',\n",
       " 'neg',\n",
       " 'neg',\n",
       " 'neg',\n",
       " 'pos',\n",
       " 'neg',\n",
       " 'pos',\n",
       " 'neg',\n",
       " 'pos',\n",
       " 'pos',\n",
       " 'neg',\n",
       " 'neg',\n",
       " 'neg',\n",
       " 'neg',\n",
       " 'neg',\n",
       " 'pos',\n",
       " 'neg',\n",
       " 'neg',\n",
       " 'pos',\n",
       " 'pos',\n",
       " 'neg',\n",
       " 'pos',\n",
       " 'pos',\n",
       " 'pos',\n",
       " 'neg',\n",
       " 'neg',\n",
       " 'neg',\n",
       " 'pos',\n",
       " 'neg',\n",
       " 'pos',\n",
       " 'neg',\n",
       " 'neg',\n",
       " 'pos',\n",
       " 'pos',\n",
       " 'pos',\n",
       " 'neg',\n",
       " 'pos',\n",
       " 'pos',\n",
       " 'neg',\n",
       " 'pos',\n",
       " 'pos',\n",
       " 'neg',\n",
       " 'pos',\n",
       " 'neg',\n",
       " 'pos',\n",
       " 'neg',\n",
       " 'neg',\n",
       " 'neg',\n",
       " 'pos',\n",
       " 'neg',\n",
       " 'pos',\n",
       " 'neg',\n",
       " 'neg',\n",
       " 'pos',\n",
       " 'neg',\n",
       " 'neg',\n",
       " 'pos',\n",
       " 'pos',\n",
       " 'neg',\n",
       " 'pos',\n",
       " 'neg',\n",
       " 'neg',\n",
       " 'pos',\n",
       " 'neg',\n",
       " 'neg',\n",
       " 'pos',\n",
       " 'neg',\n",
       " 'neg',\n",
       " 'pos',\n",
       " 'pos',\n",
       " 'pos',\n",
       " 'neg',\n",
       " 'neg',\n",
       " 'pos',\n",
       " 'pos',\n",
       " 'neg',\n",
       " 'neg',\n",
       " 'pos',\n",
       " 'pos',\n",
       " 'neg',\n",
       " 'neg',\n",
       " 'pos',\n",
       " 'pos',\n",
       " 'pos',\n",
       " 'pos',\n",
       " 'neg',\n",
       " 'neg',\n",
       " 'pos',\n",
       " 'neg',\n",
       " 'neg',\n",
       " 'pos',\n",
       " 'neg',\n",
       " 'pos',\n",
       " 'neg',\n",
       " 'pos',\n",
       " 'pos',\n",
       " 'neg',\n",
       " 'pos',\n",
       " 'pos',\n",
       " 'pos',\n",
       " 'pos',\n",
       " 'neg',\n",
       " 'pos',\n",
       " 'pos',\n",
       " 'neg',\n",
       " 'neg',\n",
       " 'pos',\n",
       " 'pos',\n",
       " 'pos',\n",
       " 'neg',\n",
       " 'neg',\n",
       " 'neg',\n",
       " 'pos',\n",
       " 'neg',\n",
       " 'neg',\n",
       " 'neg',\n",
       " 'neg',\n",
       " 'pos',\n",
       " 'neg',\n",
       " 'neg',\n",
       " 'neg',\n",
       " 'neg',\n",
       " 'pos',\n",
       " 'neg',\n",
       " 'neg',\n",
       " 'pos',\n",
       " 'pos',\n",
       " 'pos',\n",
       " 'pos',\n",
       " 'pos',\n",
       " 'neg',\n",
       " 'neg',\n",
       " 'neg',\n",
       " 'neg',\n",
       " 'neg',\n",
       " 'pos',\n",
       " 'pos',\n",
       " 'pos',\n",
       " 'neg',\n",
       " 'pos',\n",
       " 'neg',\n",
       " 'neg',\n",
       " 'neg',\n",
       " 'neg',\n",
       " 'pos',\n",
       " 'pos',\n",
       " 'pos',\n",
       " 'pos',\n",
       " 'neg',\n",
       " 'neg',\n",
       " 'neg',\n",
       " 'neg',\n",
       " 'neg',\n",
       " 'pos',\n",
       " 'neg',\n",
       " 'neg',\n",
       " 'neg',\n",
       " 'neg',\n",
       " 'neg',\n",
       " 'neg',\n",
       " 'neg',\n",
       " 'pos',\n",
       " 'neg',\n",
       " 'pos',\n",
       " 'pos',\n",
       " 'neg',\n",
       " 'neg',\n",
       " 'pos',\n",
       " 'pos',\n",
       " 'pos',\n",
       " 'neg',\n",
       " 'neg',\n",
       " 'pos',\n",
       " 'neg',\n",
       " 'pos',\n",
       " 'neg',\n",
       " 'pos',\n",
       " 'neg',\n",
       " 'neg',\n",
       " 'neg',\n",
       " 'pos',\n",
       " 'pos',\n",
       " 'pos',\n",
       " 'neg',\n",
       " 'neg',\n",
       " 'pos',\n",
       " 'pos',\n",
       " 'pos',\n",
       " 'pos',\n",
       " 'pos',\n",
       " 'pos',\n",
       " 'neg',\n",
       " 'neg',\n",
       " 'pos',\n",
       " 'neg',\n",
       " 'pos',\n",
       " 'pos',\n",
       " 'pos',\n",
       " 'pos',\n",
       " 'neg',\n",
       " 'neg',\n",
       " 'neg',\n",
       " 'pos',\n",
       " 'neg',\n",
       " 'neg',\n",
       " 'pos',\n",
       " 'neg',\n",
       " 'neg',\n",
       " 'pos',\n",
       " 'neg',\n",
       " 'neg',\n",
       " 'neg',\n",
       " 'neg',\n",
       " 'neg',\n",
       " 'pos',\n",
       " 'pos',\n",
       " 'neg',\n",
       " 'pos',\n",
       " 'pos',\n",
       " 'neg',\n",
       " 'pos',\n",
       " 'pos',\n",
       " 'pos',\n",
       " 'pos',\n",
       " 'pos',\n",
       " 'pos',\n",
       " 'neg']"
      ]
     },
     "execution_count": 216,
     "metadata": {},
     "output_type": "execute_result"
    }
   ],
   "source": [
    "\n",
    "class SimpleClassifier(ClassifierI):\n",
    "\n",
    "    def __init__(self, pos, neg):\n",
    "        self._pos = pos\n",
    "        self._neg = neg\n",
    "\n",
    "    def classify(self, doc): #doc is a FreqDist\n",
    "\n",
    "        score = 0\n",
    "\n",
    "        for word,value in doc.items():\n",
    "            if word in self._pos:\n",
    "                score+=value\n",
    "            if word in self._neg:\n",
    "                score-=value\n",
    "\n",
    "        return \"neg\" if score < 0 else \"pos\"\n",
    "\n",
    "    def classify_many(self, docs):  # with the classiy_many method, i can pass many document to classify once\n",
    "        return [self.classify(doc) for doc in docs]\n",
    "\n",
    "    def labels(self):\n",
    "        return (\"pos\", \"neg\")\n",
    "\n",
    "#Evaluate my classifier:\n",
    "\n",
    "classifier = SimpleClassifier(top_pos,top_neg)\n",
    "testing,labels=zip(*testing_data_norm) #Assuming testing_data_norm is a list of FreqDist documents\n",
    "classifier.classify_many(testing)"
   ]
  },
  {
   "cell_type": "code",
   "execution_count": 217,
   "metadata": {
    "id": "nsk2KuD80wmi"
   },
   "outputs": [],
   "source": [
    "#Just testing function\n",
    "#training,labels=zip(*training_data_norm)\n",
    "#classifier.classify_many(training)"
   ]
  },
  {
   "cell_type": "markdown",
   "metadata": {
    "id": "C6vK5Vyz2XUF"
   },
   "source": [
    "\n",
    "\n",
    "**Question 2: **\n",
    "I constructed a simple classifier that inherit from classifierI. This classifier using lists of positive and negative terms, contains a classify method that compute score to determines a document's score by looking up words in its positive and negative lists. It then designates the score as \"neg\" otherwise and as \"pos\" if it is not negative.\n",
    "\n",
    "With the added classify_many method, I can pass multiple documents to classify at once.\n",
    "\n",
    "\n",
    "\n"
   ]
  },
  {
   "cell_type": "markdown",
   "metadata": {
    "id": "YZdDO_Y92XUH"
   },
   "source": [
    "3)\n",
    "a) **Calculate** the accuracy, precision, recall and F1 score of your classifier.\n",
    "\n",
    "b) Is it reasonable to evaluate the classifier in terms of its accuracy?  **Explain** your answer and give a counter-example (a scenario where it would / would not be reasonable to evaluate the classifier in terms of its accuracy).\n",
    "\n",
    "[20\\%]"
   ]
  },
  {
   "cell_type": "code",
   "execution_count": 218,
   "metadata": {
    "colab": {
     "base_uri": "https://localhost:8080/"
    },
    "id": "1LQc8bsA2XUI",
    "outputId": "53a35d40-4108-4531-9c6f-3d19faeda6a8"
   },
   "outputs": [
    {
     "name": "stdout",
     "output_type": "stream",
     "text": [
      "0.6533333333333333\n"
     ]
    }
   ],
   "source": [
    "def classifier_evaluate(classifier, test_data):\n",
    "\n",
    "    acc = 0\n",
    "    docs,goldstandard=zip(*test_data)\n",
    "    predictions= classifier.classify_many(docs)\n",
    "    #zip the predictions with the goldstandard labels and compare\n",
    "    for prediction,goldlabel in zip(predictions,goldstandard):\n",
    "        if prediction==goldlabel:\n",
    "            acc+=1\n",
    "\n",
    "    return acc / (len(test_data))\n",
    "\n",
    "movie_classifier1 = SimpleClassifier(top_pos,top_neg)\n",
    "\n",
    "score = classifier_evaluate(movie_classifier1, testing_data_norm)\n",
    "print(score)"
   ]
  },
  {
   "cell_type": "code",
   "execution_count": 219,
   "metadata": {
    "colab": {
     "base_uri": "https://localhost:8080/"
    },
    "id": "1KmouDv2HQJh",
    "outputId": "d9924c5d-ae4a-46f4-e2a9-0c370fea33b7"
   },
   "outputs": [
    {
     "name": "stdout",
     "output_type": "stream",
     "text": [
      "Accuracy: 0.6533333333333333\n"
     ]
    }
   ],
   "source": [
    "#Another method with using zip\n",
    "def classifier_evaluation(classifier, test_data):\n",
    "    correct = 0\n",
    "    total_count = len(test_data)\n",
    "\n",
    "    for document, label in test_data:\n",
    "        prediction_label = classifier.classify(document)\n",
    "        if prediction_label == label:\n",
    "            correct += 1\n",
    "\n",
    "    accuracy = correct / total_count\n",
    "    return accuracy\n",
    "\n",
    "# Evaluate classifier\n",
    "accuracy = classifier_evaluation(movie_classifier1, testing_data_norm)\n",
    "print(\"Accuracy:\", accuracy)\n"
   ]
  },
  {
   "cell_type": "code",
   "execution_count": 220,
   "metadata": {
    "colab": {
     "base_uri": "https://localhost:8080/"
    },
    "id": "R_i80ceP2XUJ",
    "outputId": "83064883-24a6-451e-8c5f-34122f168173"
   },
   "outputs": [
    {
     "name": "stdout",
     "output_type": "stream",
     "text": [
      "These are the metrics we calculated from the confusion matrix\n",
      "244\n",
      "152\n",
      "148\n",
      "56\n"
     ]
    }
   ],
   "source": [
    "class ConfusionMatrix:\n",
    "    def __init__(self,predictions,goldstandard,classes=(\"pos\",\"neg\")):\n",
    "\n",
    "        (self.c1,self.c2)=classes\n",
    "        self.TP=0\n",
    "        self.FP=0\n",
    "        self.FN=0\n",
    "        self.TN=0\n",
    "        for p,g in zip(predictions,goldstandard):\n",
    "            if g==self.c1:\n",
    "                if p==self.c1:\n",
    "                    self.TP+=1\n",
    "                else:\n",
    "                    self.FN+=1\n",
    "\n",
    "            elif p==self.c1:\n",
    "                self.FP+=1\n",
    "            else:\n",
    "                self.TN+=1\n",
    "\n",
    "\n",
    "    def precision(self):\n",
    "        p=0\n",
    "        #compute precision here\n",
    "        p = self.TP / (self.TP + self.FP)\n",
    "        return p\n",
    "\n",
    "    def recall(self):\n",
    "        r=0\n",
    "        #compute recall here\n",
    "        r = self.FP/(self.FP + self.FN)\n",
    "        return r\n",
    "\n",
    "    def f1(self):\n",
    "        f1=0\n",
    "        #compute f1 here\n",
    "        p=self.precision()\n",
    "        r=self.recall()\n",
    "        f1=p*r/(p+r)\n",
    "\n",
    "        return f1\n",
    "\n",
    "# This display and calculate various metrics for our class based on the predictions made by a classifier and the corresponding true labels\n",
    "print(\"These are the metrics we calculated from the confusion matrix\")\n",
    "\n",
    "docs,labels=zip(*testing_data_norm)\n",
    "sent_cmx=ConfusionMatrix(classifier.classify_many(docs),labels)\n",
    "print(sent_cmx.TP)\n",
    "print(sent_cmx.FP)\n",
    "print(sent_cmx.TN)\n",
    "print(sent_cmx.FN)"
   ]
  },
  {
   "cell_type": "code",
   "execution_count": 221,
   "metadata": {
    "colab": {
     "base_uri": "https://localhost:8080/"
    },
    "id": "VbYwwhcs2XUL",
    "outputId": "d1e3ddc0-e8fb-4f36-f8a2-46980cd9307b"
   },
   "outputs": [
    {
     "name": "stdout",
     "output_type": "stream",
     "text": [
      " This is outout for Precision = 0.6161616161616161\n",
      " This is outout for Recal = 0.7307692307692307\n",
      " This is outout for F1_Score = 0.3342947793481396\n"
     ]
    }
   ],
   "source": [
    "print(f\" This is outout for Precision = {sent_cmx.precision()}\")\n",
    "print(f\" This is outout for Recal = {sent_cmx.recall()}\")\n",
    "print(f\" This is outout for F1_Score = {sent_cmx.f1()}\")"
   ]
  },
  {
   "cell_type": "markdown",
   "metadata": {
    "id": "AVZp0N5J2XUL"
   },
   "source": [
    "**Step 1:** In order to assess a movie review classifier and determine accuracy in the test_data, I develop a function that receives the test_data and the classifier, uses the classifier constructed in question 2 to predict labels, and then computes accuracy by comparing the predicated labels with the actual labels.\n",
    "\n",
    "**Step 2:**\n",
    "For me to calculate Precision, Recall and F1_Score, I generated my confusion matrix and then used them to calculate for precision, recall and F1 using their various formular.\n",
    "\n",
    "**Question3b:**\n",
    "\n",
    "\n",
    "While accuracy can be a useful, simple and straightforward metric for assessing categorization in data sets, it can also be deceptive in imbalanced datasets where one class clearly surpasses the others. For example, a classifier may obtain high accuracy in assessing a reported case as a crime and a non-crime case in a region by simply labelling all reported cases as non-crime since crimes are rarely committed in that region. In these situations, relying solely on accuracy may be deceptive because it might fail to accurately account for the classifier's capacity to detect uncommon but significant occurrences (crime cases).\n",
    "\n",
    "However, if we have a balanced dataset and we want to be cost-effective, accuracy will be a better choice to evaluate our classification.\n",
    "\n",
    "In conclusion: If the data set is highly imbalanced, and the model classifies all the data points as the majority class data points, the accuracy will be high. This makes accuracy not a reliable performance metric for imbalanced data.  From accuracy, the probability of the predictions of the model can be derived. So, from accuracy, we can not measure how good the predictions of the model are.\n"
   ]
  },
  {
   "cell_type": "markdown",
   "metadata": {
    "id": "LIS9UpmJNEAp"
   },
   "source": [
    "4)\n",
    "a)  **Construct** a Naive Bayes classifier (e.g., from NLTK).\n",
    "\n",
    "b)  **Compare** the performance of your word list classifier with the Naive Bayes classifier.  **Discuss** your results.\n",
    "\n",
    "[12.5\\%]"
   ]
  },
  {
   "cell_type": "code",
   "execution_count": 222,
   "metadata": {
    "colab": {
     "base_uri": "https://localhost:8080/"
    },
    "id": "Gwjig-Y12XUN",
    "outputId": "810690e9-53e5-4ff3-c891-8f8f33dc0fd0"
   },
   "outputs": [
    {
     "data": {
      "text/plain": [
       "0.8493150684931506"
      ]
     },
     "execution_count": 222,
     "metadata": {},
     "output_type": "execute_result"
    }
   ],
   "source": [
    "import math\n",
    "\n",
    "\n",
    "class NBClassifier(ClassifierI):\n",
    "\n",
    "    def __init__(self):\n",
    "\n",
    "        pass\n",
    "\n",
    "    def _set_known_vocabulary(self,training_data):\n",
    "        #add your code here\n",
    "        known=[]\n",
    "        for doc,label in training_data:\n",
    "            known+=list(doc.keys())\n",
    "        self.known= set(known)\n",
    "\n",
    "    def _set_priors(self,training_data):\n",
    "        #add your code here\n",
    "        priors={}\n",
    "        for (doc,label) in training_data:\n",
    "            priors[label]=priors.get(label,0)+1\n",
    "        total=sum(priors.values())\n",
    "        for key,value in priors.items():\n",
    "            priors[key]=value/total\n",
    "        self.priors=priors\n",
    "\n",
    "    def _set_cond_probs(self,training_data):\n",
    "        #add your code here\n",
    "        conds={}\n",
    "        for(doc,label) in training_data:\n",
    "            classcond=conds.get(label,{})\n",
    "            for word in doc.keys():\n",
    "                classcond[word]=classcond.get(word,0)+1\n",
    "\n",
    "            conds[label]=classcond\n",
    "\n",
    "        for label, classcond in conds.items():\n",
    "            for word in self.known:\n",
    "\n",
    "                classcond[word]=classcond.get(word,0)+1\n",
    "            conds[label]=classcond\n",
    "\n",
    "        for label,dist in conds.items():\n",
    "            total=sum(dist.values())\n",
    "            conds[label]={key:value/total for (key,value) in dist.items()}\n",
    "\n",
    "        self.conds=conds\n",
    "\n",
    "    def train(self,training_data):\n",
    "        self._set_known_vocabulary(training_data)\n",
    "        self._set_priors(training_data)\n",
    "        self._set_cond_probs(training_data)\n",
    "\n",
    "    def classify(self,doc):\n",
    "        #add your code here\n",
    "        doc_probs={key:math.log(value) for (key,value) in self.priors.items()}\n",
    "        for word in doc.keys():\n",
    "            if word in self.known:\n",
    "                doc_probs={classlabel:sofar+math.log(self.conds[classlabel].get(word,0)) for (classlabel,sofar) in doc_probs.items()}\n",
    "\n",
    "        highprob=max(doc_probs.values())\n",
    "        classes=[c for c in doc_probs.keys() if doc_probs[c]==highprob]\n",
    "        return random.choice(classes)\n",
    "\n",
    "#Evaluating the function\n",
    "myclassifier=NBClassifier()\n",
    "myclassifier.train(training_data_norm)\n",
    "#myclassifier.classify_many(doc for (doc,label) in testing_data_norm)\n",
    "\n",
    "cm=ConfusionMatrix(myclassifier.classify_many(docs),labels,classes=(\"pos\",\"neg\"))\n",
    "cm.precision()"
   ]
  },
  {
   "cell_type": "code",
   "execution_count": 223,
   "metadata": {
    "colab": {
     "base_uri": "https://localhost:8080/"
    },
    "id": "3AUsYRMa2XUN",
    "outputId": "1b28c5bd-d6de-460b-e868-76b4aec8b44b"
   },
   "outputs": [
    {
     "name": "stdout",
     "output_type": "stream",
     "text": [
      "These are the metrics we calculated from the confusion matrix\n",
      "248\n",
      "44\n",
      "256\n",
      "52\n"
     ]
    }
   ],
   "source": [
    "class ConfusionMatrix:\n",
    "    def __init__(self,predictions,goldstandard,classes=(\"pos\",\"neg\")):\n",
    "\n",
    "        (self.c1,self.c2)=classes\n",
    "        self.TP=0\n",
    "        self.FP=0\n",
    "        self.FN=0\n",
    "        self.TN=0\n",
    "        for p,g in zip(predictions,goldstandard):\n",
    "            if g==self.c1:\n",
    "                if p==self.c1:\n",
    "                    self.TP+=1\n",
    "                else:\n",
    "                    self.FN+=1\n",
    "\n",
    "            elif p==self.c1:\n",
    "                self.FP+=1\n",
    "            else:\n",
    "                self.TN+=1\n",
    "\n",
    "\n",
    "    def precision(self):\n",
    "        p=0\n",
    "        #compute precision here\n",
    "        p = self.TP / (self.TP + self.FP)\n",
    "        return p\n",
    "\n",
    "    def recall(self):\n",
    "        r=0\n",
    "        #compute recall here\n",
    "        r = self.FP/(self.FP + self.FN)\n",
    "        return r\n",
    "\n",
    "    def f1(self):\n",
    "        f1=0\n",
    "        #compute f1 here\n",
    "        p=self.precision()\n",
    "        r=self.recall()\n",
    "        f1=p*r/(p+r)\n",
    "\n",
    "        return f1\n",
    "\n",
    "# This display and calculate various metrics for our class based on the predictions made by a classifier and the corresponding true labels\n",
    "print(\"These are the metrics we calculated from the confusion matrix\")\n",
    "\n",
    "docs,labels=zip(*testing_data_norm)\n",
    "NB_cmx=ConfusionMatrix(myclassifier.classify_many(docs),labels)\n",
    "print(NB_cmx.TP)\n",
    "print(NB_cmx.FP)\n",
    "print(NB_cmx.TN)\n",
    "print(NB_cmx.FN)"
   ]
  },
  {
   "cell_type": "code",
   "execution_count": 224,
   "metadata": {
    "colab": {
     "base_uri": "https://localhost:8080/"
    },
    "id": "wy0qGLthTp2h",
    "outputId": "d23730fa-14a3-4f15-8d78-e182ba8f0910"
   },
   "outputs": [
    {
     "name": "stdout",
     "output_type": "stream",
     "text": [
      " This is outout for Precision = 0.8493150684931506\n",
      " This is outout for Recal = 0.4583333333333333\n",
      " This is outout for F1_Score = 0.29768659973810563\n"
     ]
    }
   ],
   "source": [
    "print(f\" This is outout for Precision = {NB_cmx.precision()}\")\n",
    "print(f\" This is outout for Recal = {NB_cmx.recall()}\")\n",
    "print(f\" This is outout for F1_Score = {NB_cmx.f1()}\")"
   ]
  },
  {
   "cell_type": "markdown",
   "metadata": {
    "id": "bytPkuHf2XUO"
   },
   "source": [
    "**Accuracy:**\n",
    "\n",
    "*   Word List Classifier: 65%\n",
    "*   Naive Bayes Classifier: 85%\n",
    "\n",
    "The Naive Bayes classifier clearly outperforms the word list classifier regarding accuracy.\n",
    "\n",
    "**Precision ( is the fraction of the correctly classified instance from the total classified instances.):**\n",
    "\n",
    "*   Word List Classifier: 61%\n",
    "*   Naive Bayes Classifier: 85%\n",
    "\n",
    "When compared to the word list classifier, Naive Bayes has a far better precision, meaning that its predictions of positive outcomes are more likely to be accurate.\n",
    "\n",
    "**Recall (  is the fraction of the correctly classified instances from the total classified actual instances):**\n",
    "\n",
    "\n",
    "\n",
    "*   Word List Classifier: 73%\n",
    "*   Naive Bayes Classifier: 46%\n",
    "\n",
    "The word list classifier has a higher recall than Naive Bayes, suggesting it captures a higher proportion of positive instances.\n",
    "\n",
    "**F1 Score (harmonic mean of precision and recall):**\n",
    "\n",
    "*   Word List Classifier: 33%\n",
    "*   Naive Bayes Classifier: 29%\n",
    "\n",
    "Based on recall, the word list classifier performs better, indicating that it captures more positive reviews, which could explain the reason behind the precision score.\n",
    "\n",
    "**In conclusion**, the problem's particular needs should be considered while selecting between the two classifiers. This is because both methods have their own pros and cons: the Naive Bayes classifier may be favoured if accuracy is essential and false positives are expensive. The word list classifier may be more appropriate if capturing more true positives is crucial and balanced performance counts."
   ]
  },
  {
   "cell_type": "markdown",
   "metadata": {
    "id": "LGDXaVDqOSfY"
   },
   "source": [
    "5)\n",
    "a) Design and **carry out an experiment** into the impact of the **length of the wordlists** on the wordlist classifier.  Make sure you **describe** design decisions in your experiment, include a **graph** of your results and **discuss** your conclusions.\n",
    "\n",
    "b) Would you **recommend** a wordlist classifier or a Naive Bayes classifier for future work in this area?  **Justify** your answer.\n",
    "\n",
    "[25\\%]\n"
   ]
  },
  {
   "cell_type": "markdown",
   "metadata": {
    "id": "UlxoUthX2XUP"
   },
   "source": []
  },
  {
   "cell_type": "code",
   "execution_count": 225,
   "metadata": {
    "id": "T1L7mZ-k2XUQ"
   },
   "outputs": [],
   "source": [
    "class SimpleClassifier_mf(SimpleClassifier):\n",
    "\n",
    "    def __init__(self,k):\n",
    "        self._k=k\n",
    "\n",
    "    def train(self,training_data):\n",
    "\n",
    "        pos_freq_dist=FreqDist()\n",
    "        neg_freq_dist=FreqDist()\n",
    "\n",
    "        for reviewDist,label in training_data:\n",
    "            if label=='pos':\n",
    "                pos_freq_dist+=reviewDist\n",
    "            else:\n",
    "                neg_freq_dist+=reviewDist\n",
    "\n",
    "        self._pos=most_frequent_words(pos_freq_dist,neg_freq_dist,self._k)\n",
    "        self._neg=most_frequent_words(neg_freq_dist,pos_freq_dist,self._k)"
   ]
  },
  {
   "cell_type": "code",
   "execution_count": 226,
   "metadata": {
    "colab": {
     "base_uri": "https://localhost:8080/"
    },
    "id": "xFeOWIRm2XUQ",
    "outputId": "d8dba20e-5b08-4a67-f1c5-e10e80620ecd"
   },
   "outputs": [
    {
     "data": {
      "text/plain": [
       "{5: {'Word List MF': 0.5222222222222221},\n",
       " 10: {'Word List MF': 0.5261111111111111},\n",
       " 50: {'Word List MF': 0.6194444444444445},\n",
       " 100: {'Word List MF': 0.6833333333333333},\n",
       " 200: {'Word List MF': 0.6327777777777778},\n",
       " 400: {'Word List MF': 0.6488888888888888},\n",
       " 600: {'Word List MF': 0.6938888888888889},\n",
       " 700: {'Word List MF': 0.6916666666666667}}"
      ]
     },
     "execution_count": 226,
     "metadata": {},
     "output_type": "execute_result"
    }
   ],
   "source": [
    "from random import sample\n",
    "number_of_runs = 3\n",
    "sample_sizes=[5,10,50,100,200,400,600, 700]\n",
    "results={}\n",
    "word_list_size=100\n",
    "classifiers={\"Word List MF\":SimpleClassifier_mf(word_list_size)}\n",
    "\n",
    "\n",
    "\n",
    "for size in sample_sizes:\n",
    "    res={}\n",
    "\n",
    "    for i in range(number_of_runs):\n",
    "        training,testing=get_train_test_data()\n",
    "\n",
    "        positive_training=[(doc,label) for (doc,label) in training_data_norm if label==\"pos\"]\n",
    "        negative_training=[(doc,label) for (doc,label) in training_data_norm if label==\"neg\"]\n",
    "        training_sample=sample(positive_training,size)+sample(negative_training,size)\n",
    "        for name,classifier in classifiers.items():\n",
    "\n",
    "            classifier.train(training_sample)\n",
    "            accuracy=classifier_evaluate(classifier,testing_data_norm)\n",
    "            #print(\"The accuracy of {} classifier with training sample size {} is {}\".format(name,size, accuracy))\n",
    "            res[name]=res.get(name,0)+accuracy/number_of_runs\n",
    "    results[size]=res\n",
    "\n",
    "\n",
    "results"
   ]
  },
  {
   "cell_type": "code",
   "execution_count": 227,
   "metadata": {
    "colab": {
     "base_uri": "https://localhost:8080/",
     "height": 489
    },
    "id": "VT82P88M2XUQ",
    "outputId": "b4e0b050-6c7f-471e-a966-0afb579e2b4f"
   },
   "outputs": [
    {
     "data": {
      "text/plain": [
       "Text(0.5, 0, 'Sample Size')"
      ]
     },
     "execution_count": 227,
     "metadata": {},
     "output_type": "execute_result"
    },
    {
     "data": {
      "image/png": "[encoded data removed]",
      "text/plain": [
       "<Figure size 640x480 with 1 Axes>"
      ]
     },
     "metadata": {},
     "output_type": "display_data"
    }
   ],
   "source": [
    "df=pd.DataFrame(results)\n",
    "df=df.transpose()\n",
    "df\n",
    "\n",
    "ax = df.plot(kind=\"line\",title=\"Experimental Results\")\n",
    "ax.set_ylabel(\"Accuracy\")\n",
    "ax.set_xlabel(\"Sample Size\")"
   ]
  },
  {
   "cell_type": "markdown",
   "metadata": {
    "id": "Ym-TGvYS2XUR"
   },
   "source": [
    "**Question 5a:**\n",
    "In my graph, the accuracy score climbs significantly as the sample size grows from 5 to 100, at which point it begins to fluctuate while maintaining a high accuracy score. This may occur as a result of a longer wordlist capturing a wider range of emotions and subtleties. Increasing the wordlist length may not always result in appreciable improvements in accuracy. The presence of noise or irrelevant words may cause the classifier to plateau or exhibit diminishing returns.\n",
    "\n",
    "**Question 5b:**\n",
    "I recommend doing a wordlist classifier if the vocabulary and context are well-defined, as it offers a simple and understandable solution. On the other hand, I will still recommend a Naive Bayes classifier because it can handle larger datasets and can adapt to new vocabulary, which make it great. Generally, I think Naive Bayes classifiers will perform better when sufficient data is provided for training.\n",
    "\n",
    "In the end, the decision should be made in light of the particular needs of the assignment, the type of data, and the trade-offs between simplicity and flexibility. It may be possible to ascertain which classifier performs better by experimenting and trying both strategies on your dataset."
   ]
  },
  {
   "cell_type": "code",
   "execution_count": 228,
   "metadata": {
    "colab": {
     "base_uri": "https://localhost:8080/",
     "height": 263
    },
    "id": "34rdlS_iPov6",
    "outputId": "7129bda2-dd4e-4161-a3e7-b7e89c66b954"
   },
   "outputs": [
    {
     "name": "stdout",
     "output_type": "stream",
     "text": [
      "Drive already mounted at /content/drive; to attempt to forcibly remount, call drive.mount(\"/content/drive\", force_remount=True).\n"
     ]
    },
    {
     "ename": "FileNotFoundError",
     "evalue": "ignored",
     "output_type": "error",
     "traceback": [
      "\u001b[0;31m---------------------------------------------------------------------------\u001b[0m",
      "\u001b[0;31mFileNotFoundError\u001b[0m                         Traceback (most recent call last)",
      "\u001b[0;32m<ipython-input-228-9ea4abea94eb>\u001b[0m in \u001b[0;36m<cell line: 12>\u001b[0;34m()\u001b[0m\n\u001b[1;32m     10\u001b[0m \u001b[0mquestion_count\u001b[0m\u001b[0;34m=\u001b[0m\u001b[0;36m432\u001b[0m\u001b[0;34m\u001b[0m\u001b[0;34m\u001b[0m\u001b[0m\n\u001b[1;32m     11\u001b[0m \u001b[0;34m\u001b[0m\u001b[0m\n\u001b[0;32m---> 12\u001b[0;31m \u001b[0;32mwith\u001b[0m \u001b[0mio\u001b[0m\u001b[0;34m.\u001b[0m\u001b[0mopen\u001b[0m\u001b[0;34m(\u001b[0m\u001b[0mfilepath\u001b[0m\u001b[0;34m,\u001b[0m \u001b[0;34m'r'\u001b[0m\u001b[0;34m,\u001b[0m \u001b[0mencoding\u001b[0m\u001b[0;34m=\u001b[0m\u001b[0;34m'utf-8'\u001b[0m\u001b[0;34m)\u001b[0m \u001b[0;32mas\u001b[0m \u001b[0mf\u001b[0m\u001b[0;34m:\u001b[0m\u001b[0;34m\u001b[0m\u001b[0;34m\u001b[0m\u001b[0m\n\u001b[0m\u001b[1;32m     13\u001b[0m     \u001b[0mnb\u001b[0m \u001b[0;34m=\u001b[0m \u001b[0mcurrent\u001b[0m\u001b[0;34m.\u001b[0m\u001b[0mread\u001b[0m\u001b[0;34m(\u001b[0m\u001b[0mf\u001b[0m\u001b[0;34m,\u001b[0m \u001b[0;34m'json'\u001b[0m\u001b[0;34m)\u001b[0m\u001b[0;34m\u001b[0m\u001b[0;34m\u001b[0m\u001b[0m\n\u001b[1;32m     14\u001b[0m \u001b[0;34m\u001b[0m\u001b[0m\n",
      "\u001b[0;31mFileNotFoundError\u001b[0m: [Errno 2] No such file or directory: '/content/drive/MyDrive/Colab Notebooks/ANLPassignment2023.ipynb'"
     ]
    }
   ],
   "source": [
    "##This code will word count all of the markdown cells in the notebook saved at filepath\n",
    "\n",
    "import io\n",
    "from nbformat import current\n",
    "\n",
    "from google.colab import drive\n",
    "drive.mount('/content/drive')\n",
    "\n",
    "filepath=\"/content/drive/MyDrive/Colab Notebooks/ANLPassignment2023.ipynb\"\n",
    "question_count=432\n",
    "\n",
    "with io.open(filepath, 'r', encoding='utf-8') as f:\n",
    "    nb = current.read(f, 'json')\n",
    "\n",
    "word_count = 0\n",
    "for cell in nb.worksheets[0].cells:\n",
    "    if cell.cell_type == \"markdown\":\n",
    "        word_count += len(cell['source'].replace('#', '').lstrip().split(' '))\n",
    "print(\"Submission length is {}\".format(word_count-question_count))"
   ]
  }
 ],
 "metadata": {
  "colab": {
   "provenance": []
  },
  "kernelspec": {
   "display_name": "Python 3 (ipykernel)",
   "language": "python",
   "name": "python3"
  },
  "language_info": {
   "codemirror_mode": {
    "name": "ipython",
    "version": 3
   },
   "file_extension": ".py",
   "mimetype": "text/x-python",
   "name": "python",
   "nbconvert_exporter": "python",
   "pygments_lexer": "ipython3",
   "version": "3.11.7"
  }
 },
 "nbformat": 4,
 "nbformat_minor": 4
}
